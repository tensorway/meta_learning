{
 "cells": [
  {
   "cell_type": "code",
   "execution_count": 1,
   "metadata": {},
   "outputs": [
    {
     "data": {
      "text/plain": [
       "44"
      ]
     },
     "execution_count": 1,
     "metadata": {},
     "output_type": "execute_result"
    }
   ],
   "source": [
    "import torchvision\n",
    "import torch \n",
    "import torch.nn as nn\n",
    "import torch.nn.functional as F\n",
    "import matplotlib.pyplot as plt\n",
    "import random\n",
    "from mydataset import MyDataset\n",
    "from torch.utils.tensorboard import SummaryWriter\n",
    "\n",
    "import os\n",
    "\n",
    "nways = 5\n",
    "44\n"
   ]
  },
  {
   "cell_type": "code",
   "execution_count": 3,
   "metadata": {},
   "outputs": [
    {
     "name": "stdout",
     "output_type": "stream",
     "text": [
      "Downloading https://www.chrsmrrs.com/graphkerneldatasets/ENZYMES.zip\n",
      "Extracting /tmp/ENZYMES/ENZYMES/ENZYMES.zip\n",
      "Processing...\n",
      "Done!\n"
     ]
    },
    {
     "data": {
      "text/plain": [
       "600"
      ]
     },
     "execution_count": 3,
     "metadata": {},
     "output_type": "execute_result"
    }
   ],
   "source": [
    "from torch_geometric.datasets import TUDataset\n",
    "\n",
    "dataset = TUDataset(root='/tmp/ENZYMES', name='ENZYMES')\n",
    "len(dataset)"
   ]
  },
  {
   "cell_type": "code",
   "execution_count": null,
   "metadata": {},
   "outputs": [],
   "source": [
    "data"
   ]
  },
  {
   "cell_type": "code",
   "execution_count": 33,
   "metadata": {},
   "outputs": [
    {
     "name": "stdout",
     "output_type": "stream",
     "text": [
      "Files already downloaded and verified\n",
      "torch.Size([8, 3, 5, 105, 105]) torch.Size([8, 3, 5, 6])\n",
      "torch.Size([8, 15, 6]) torch.Size([8, 15, 11025])\n",
      "torch.Size([8, 15, 5])\n"
     ]
    },
    {
     "data": {
      "image/png": "[encoded data removed]",
      "text/plain": [
       "<Figure size 432x288 with 1 Axes>"
      ]
     },
     "metadata": {
      "needs_background": "light"
     },
     "output_type": "display_data"
    }
   ],
   "source": [
    "class MyDataset(torch.utils.data.Dataset):\n",
    "    def __init__(self, k, n, ntrain, is_train):\n",
    "        super().__init__()\n",
    "        self.n_examples_per_class = 20\n",
    "        self.dataset = torchvision.datasets.Omniglot(\n",
    "            root=\"./data\", download=True, transform=torchvision.transforms.ToTensor()\n",
    "        )\n",
    "        self.nclasses = len(self.dataset)//self.n_examples_per_class\n",
    "        self.ntrain = ntrain\n",
    "        self.is_train = is_train\n",
    "        self.n = n\n",
    "        self.k = k\n",
    "        assert ntrain <= self.nclasses, \"ntrain examples should be less than or equal to total number of examples(20)\"\n",
    "    def __len__(self):\n",
    "        return 1234\n",
    "    def get_one_random(self, iclass):\n",
    "        i2 = 0\n",
    "        if self.is_train:\n",
    "            i2 = random.randint(0, self.ntrain-1)\n",
    "        else:\n",
    "            i2 = random.randint(self.ntrain, self.n_examples_per_class-1)\n",
    "        a, _ = self.dataset[iclass*self.n_examples_per_class + i2]\n",
    "        return a.unsqueeze(0).unsqueeze(0) #, torch.tensor([[b]]).unsqueeze(0).unsqueeze(0)\n",
    "            \n",
    "    def __getitem__(self, idx):\n",
    "        llt1=[]; rng=0;\n",
    "        if self.is_train:\n",
    "            rlist = random.sample(range(0, self.ntrain-1), self.n)\n",
    "        else:\n",
    "            rlist = random.sample(range(self.ntrain, self.nclasses), self.n)\n",
    "        for nk in range(self.k):\n",
    "            lt1=[]; lt2=[]\n",
    "            for iclass in rlist:\n",
    "                t1 = self.get_one_random(iclass)\n",
    "                lt1.append(t1)\n",
    "            llt1.append(torch.cat(lt1, dim=1))\n",
    "        t1 = torch.cat(llt1, dim=0).squeeze(-3)\n",
    "        \n",
    "        l = list(range(0, self.n))\n",
    "        t2 = torch.tensor([l])\n",
    "        t2 = t2.repeat(self.k, 1, 1)\n",
    "        t2 = F.one_hot(t2, num_classes=nways+1).squeeze(-3)\n",
    "            \n",
    "            \n",
    "        return t1, t2\n",
    "        \n",
    "dataset = MyDataset(k=3, n=nways, ntrain=100, is_train=True)\n",
    "loader = torch.utils.data.DataLoader(dataset, batch_size=8, num_workers=3)\n",
    "      \n",
    "# image, label = dataset[50]\n",
    "# print(label)  # int\n",
    "# plt.imshow(image.numpy()[0])\n",
    "for t in loader:\n",
    "    print(t[0].shape, t[1].shape)\n",
    "    ns = t[0][0, 0, 0, :, :].numpy()\n",
    "    print(model(t[0], t[1]).shape)\n",
    "    plt.imshow(ns)\n",
    "    break# next(loader)"
   ]
  },
  {
   "cell_type": "code",
   "execution_count": 34,
   "metadata": {},
   "outputs": [],
   "source": [
    "class Model(nn.Module):\n",
    "    def __init__(self, ):\n",
    "        super().__init__()\n",
    "        self.pixs = 105**2\n",
    "        self.lin = nn.Linear(128, nways)\n",
    "        self.lstm = nn.LSTM(self.pixs+nways+1, 128, num_layers=2, batch_first=True)\n",
    "    def forward(self, x, idx):\n",
    "        x = x.view(x.shape[0], -1, self.pixs)\n",
    "        idx = idx.view(idx.shape[0], -1, nways+1).float()\n",
    "#         print(idx.shape, x.shape)\n",
    "        \n",
    "        h = torch.cat((x, idx), dim=-1)\n",
    "        h, _ = self.lstm(h)\n",
    "        h = self.lin(h)\n",
    "        h = torch.softmax(h, dim=-1)\n",
    "        return h\n",
    "        \n",
    "        \n",
    "model = Model()"
   ]
  },
  {
   "cell_type": "code",
   "execution_count": 35,
   "metadata": {},
   "outputs": [],
   "source": [
    "opt = torch.optim.Adam(model.parameters(), lr=1e-3)"
   ]
  },
  {
   "cell_type": "code",
   "execution_count": 43,
   "metadata": {},
   "outputs": [],
   "source": [
    "ename = 'tst1'\n",
    "os.system('mkdir tb/'+ename)\n",
    "writer = SummaryWriter('tb/'+ename)\n",
    "\n",
    "\n",
    "\n",
    "eps=10\n",
    "for ep in range(eps):\n",
    "    for step, (x, y) in enumerate(loader):\n",
    "        xexamples, xtoguess = x[:, :-1, :, :], x[:, -1, :, :]\n",
    "        yexamples, ytoguess = y[:, :-1, :, :], y[:, -1, :, :]\n",
    "        \n",
    "        \n",
    "        break\n",
    "        "
   ]
  }
 ],
 "metadata": {
  "kernelspec": {
   "display_name": "Python 3",
   "language": "python",
   "name": "python3"
  },
  "language_info": {
   "codemirror_mode": {
    "name": "ipython",
    "version": 3
   },
   "file_extension": ".py",
   "mimetype": "text/x-python",
   "name": "python",
   "nbconvert_exporter": "python",
   "pygments_lexer": "ipython3",
   "version": "3.8.2"
  }
 },
 "nbformat": 4,
 "nbformat_minor": 4
}
